{
 "cells": [
  {
   "cell_type": "code",
   "execution_count": 6,
   "metadata": {
    "id": "a3lGeNQkFMIz"
   },
   "outputs": [],
   "source": [
    "import pandas as pd\n",
    "import numpy as np\n",
    "import tensorflow as tf\n",
    "from sklearn.metrics.pairwise import cosine_similarity\n",
    "from sklearn.model_selection import train_test_split\n",
    "import nltk\n",
    "from nltk.corpus import stopwords\n",
    "from nltk.tokenize import word_tokenize\n",
    "from tensorflow.keras.preprocessing.text import Tokenizer\n",
    "from tensorflow.keras.preprocessing.sequence import pad_sequences\n"
   ]
  },
  {
   "cell_type": "code",
   "execution_count": 7,
   "metadata": {
    "colab": {
     "base_uri": "https://localhost:8080/"
    },
    "id": "L-I61IqUMIi3",
    "outputId": "a2b8ac21-0a19-4ccc-98c8-4f5109da7e2a"
   },
   "outputs": [
    {
     "name": "stderr",
     "output_type": "stream",
     "text": [
      "[nltk_data] Downloading package stopwords to\n",
      "[nltk_data]     C:\\Users\\asus\\AppData\\Roaming\\nltk_data...\n",
      "[nltk_data]   Package stopwords is already up-to-date!\n",
      "[nltk_data] Downloading package punkt to\n",
      "[nltk_data]     C:\\Users\\asus\\AppData\\Roaming\\nltk_data...\n",
      "[nltk_data]   Package punkt is already up-to-date!\n"
     ]
    },
    {
     "data": {
      "text/plain": [
       "True"
      ]
     },
     "execution_count": 7,
     "metadata": {},
     "output_type": "execute_result"
    }
   ],
   "source": [
    "# Download NLTK stop words\n",
    "nltk.download('stopwords')\n",
    "nltk.download('punkt')"
   ]
  },
  {
   "cell_type": "code",
   "execution_count": 8,
   "metadata": {
    "id": "9hHYtdbpF-Oh"
   },
   "outputs": [],
   "source": [
    "# Load your data\n",
    "df = pd.read_excel('indonesia_tourism.xlsx', sheet_name=\"indonesia_tourism\")"
   ]
  },
  {
   "cell_type": "code",
   "execution_count": 9,
   "metadata": {
    "id": "9hHYtdbpF-Oh"
   },
   "outputs": [
    {
     "data": {
      "text/plain": [
       "0      Monumen Nasional atau yang populer disingkat d...\n",
       "1      Kota tua di Jakarta, yang juga bernama Kota Tu...\n",
       "2      Dunia Fantasi atau disebut juga Dufan adalah t...\n",
       "3      Taman Mini Indonesia Indah merupakan suatu kaw...\n",
       "4      Atlantis Water Adventure atau dikenal dengan A...\n",
       "                             ...                        \n",
       "432    Museum Negeri Mpu Tantular adalah sebuah museu...\n",
       "433    Taman Bungkul adalah taman wisata kota yang te...\n",
       "434    Air mancur menari atau dancing fountain juga a...\n",
       "435    Taman Flora adalah salah satu taman kota di Su...\n",
       "436    Gereja Katolik Kelahiran Santa Perawan Maria m...\n",
       "Name: Description, Length: 437, dtype: object"
      ]
     },
     "execution_count": 9,
     "metadata": {},
     "output_type": "execute_result"
    }
   ],
   "source": [
    "df['Description']"
   ]
  },
  {
   "cell_type": "code",
   "execution_count": 10,
   "metadata": {
    "id": "nD6PWacrMLIz"
   },
   "outputs": [],
   "source": [
    "# Advanced text preprocessing\n",
    "stop_words = set(stopwords.words('indonesian'))\n",
    "\n",
    "def preprocess_text(text):\n",
    "    words = word_tokenize(text)\n",
    "    words = [w.lower() for w in words if w.isalpha()]  # Remove punctuation and numbers\n",
    "    words = [w for w in words if not w in stop_words]  # Remove stop words\n",
    "    return ' '.join(words)\n",
    "description_stopwords = pd.DataFrame()\n",
    "description_stopwords['description'] = df['Description'].apply(preprocess_text)"
   ]
  },
  {
   "cell_type": "code",
   "execution_count": 11,
   "metadata": {
    "id": "nD6PWacrMLIz"
   },
   "outputs": [
    {
     "data": {
      "text/html": [
       "<div>\n",
       "<style scoped>\n",
       "    .dataframe tbody tr th:only-of-type {\n",
       "        vertical-align: middle;\n",
       "    }\n",
       "\n",
       "    .dataframe tbody tr th {\n",
       "        vertical-align: top;\n",
       "    }\n",
       "\n",
       "    .dataframe thead th {\n",
       "        text-align: right;\n",
       "    }\n",
       "</style>\n",
       "<table border=\"1\" class=\"dataframe\">\n",
       "  <thead>\n",
       "    <tr style=\"text-align: right;\">\n",
       "      <th></th>\n",
       "      <th>description</th>\n",
       "    </tr>\n",
       "  </thead>\n",
       "  <tbody>\n",
       "    <tr>\n",
       "      <th>0</th>\n",
       "      <td>monumen nasional populer disingkat monas tugu ...</td>\n",
       "    </tr>\n",
       "    <tr>\n",
       "      <th>1</th>\n",
       "      <td>kota tua jakarta bernama kota tua berpusat fat...</td>\n",
       "    </tr>\n",
       "    <tr>\n",
       "      <th>2</th>\n",
       "      <td>dunia fantasi dufan hiburan terletak kawasan t...</td>\n",
       "    </tr>\n",
       "    <tr>\n",
       "      <th>3</th>\n",
       "      <td>taman mini indonesia indah kawasan taman wisat...</td>\n",
       "    </tr>\n",
       "    <tr>\n",
       "      <th>4</th>\n",
       "      <td>atlantis water adventure dikenal atlantis anco...</td>\n",
       "    </tr>\n",
       "    <tr>\n",
       "      <th>...</th>\n",
       "      <td>...</td>\n",
       "    </tr>\n",
       "    <tr>\n",
       "      <th>432</th>\n",
       "      <td>museum negeri mpu tantular museum negeri berlo...</td>\n",
       "    </tr>\n",
       "    <tr>\n",
       "      <th>433</th>\n",
       "      <td>taman bungkul taman wisata kota terletak pusat...</td>\n",
       "    </tr>\n",
       "    <tr>\n",
       "      <th>434</th>\n",
       "      <td>air mancur menari dancing fountain kawasan jem...</td>\n",
       "    </tr>\n",
       "    <tr>\n",
       "      <th>435</th>\n",
       "      <td>taman flora salah taman kota surabaya fasilita...</td>\n",
       "    </tr>\n",
       "    <tr>\n",
       "      <th>436</th>\n",
       "      <td>gereja katolik kelahiran santa perawan maria s...</td>\n",
       "    </tr>\n",
       "  </tbody>\n",
       "</table>\n",
       "<p>437 rows × 1 columns</p>\n",
       "</div>"
      ],
      "text/plain": [
       "                                           description\n",
       "0    monumen nasional populer disingkat monas tugu ...\n",
       "1    kota tua jakarta bernama kota tua berpusat fat...\n",
       "2    dunia fantasi dufan hiburan terletak kawasan t...\n",
       "3    taman mini indonesia indah kawasan taman wisat...\n",
       "4    atlantis water adventure dikenal atlantis anco...\n",
       "..                                                 ...\n",
       "432  museum negeri mpu tantular museum negeri berlo...\n",
       "433  taman bungkul taman wisata kota terletak pusat...\n",
       "434  air mancur menari dancing fountain kawasan jem...\n",
       "435  taman flora salah taman kota surabaya fasilita...\n",
       "436  gereja katolik kelahiran santa perawan maria s...\n",
       "\n",
       "[437 rows x 1 columns]"
      ]
     },
     "execution_count": 11,
     "metadata": {},
     "output_type": "execute_result"
    }
   ],
   "source": [
    "description_stopwords"
   ]
  },
  {
   "cell_type": "code",
   "execution_count": 12,
   "metadata": {
    "id": "YmCt8zMTMcSw"
   },
   "outputs": [],
   "source": [
    "# Concatenate place names with reviews\n",
    "description_stopwords['combined_data'] = df['Place_Name'] + ' ' + description_stopwords['description']"
   ]
  },
  {
   "cell_type": "code",
   "execution_count": 13,
   "metadata": {
    "id": "up0C_XH6FTiq"
   },
   "outputs": [],
   "source": [
    "# Prepare the dataset for TensorFlow\n",
    "texts = description_stopwords['combined_data'].values\n",
    "labels = df['Place_Name']"
   ]
  },
  {
   "cell_type": "code",
   "execution_count": 14,
   "metadata": {
    "id": "RasTW8eIMiGQ"
   },
   "outputs": [],
   "source": [
    "# Tokenize and pad sequences\n",
    "tokenizer = Tokenizer(num_words=10000)\n",
    "tokenizer.fit_on_texts(texts)\n",
    "sequences = tokenizer.texts_to_sequences(texts)\n",
    "word_index = tokenizer.word_index\n",
    "data = pad_sequences(sequences, maxlen=200)"
   ]
  },
  {
   "cell_type": "code",
   "execution_count": 15,
   "metadata": {
    "id": "IHyjMJeyMj2M"
   },
   "outputs": [],
   "source": [
    "# Load GloVe embeddings\n",
    "def load_glove_embeddings(glove_path, word_index, embedding_dim=100):\n",
    "    embeddings_index = {}\n",
    "    with open(glove_path, encoding='utf-8') as f:\n",
    "        for line in f:\n",
    "            values = line.split()\n",
    "            word = values[0]\n",
    "            coefs = np.asarray(values[1:], dtype='float32')\n",
    "            embeddings_index[word] = coefs\n",
    "\n",
    "    embedding_matrix = np.zeros((len(word_index) + 1, embedding_dim))\n",
    "    for word, i in word_index.items():\n",
    "        embedding_vector = embeddings_index.get(word)\n",
    "        if embedding_vector is not None:\n",
    "            embedding_matrix[i] = embedding_vector\n",
    "\n",
    "    return embedding_matrix"
   ]
  },
  {
   "cell_type": "code",
   "execution_count": 16,
   "metadata": {
    "id": "fHte4AskMl3Y"
   },
   "outputs": [],
   "source": [
    "glove_path = 'glove.6B.100d.txt'  # Ensure you have the GloVe embeddings file\n",
    "embedding_dim = 100\n",
    "embedding_matrix = load_glove_embeddings(glove_path, word_index, embedding_dim)"
   ]
  },
  {
   "cell_type": "code",
   "execution_count": 17,
   "metadata": {
    "id": "7K3lTF-RMn93"
   },
   "outputs": [],
   "source": [
    "# Improved Model Architecture\n",
    "inputs = tf.keras.Input(shape=(200,))\n",
    "x = tf.keras.layers.Embedding(len(word_index) + 1, embedding_dim, weights=[embedding_matrix], trainable=False)(inputs)\n",
    "x = tf.keras.layers.Bidirectional(tf.keras.layers.LSTM(64, return_sequences=True))(x)\n",
    "x = tf.keras.layers.GlobalAveragePooling1D()(x)\n",
    "x = tf.keras.layers.Dense(128, activation='relu')(x)\n",
    "outputs = tf.keras.layers.Dense(embedding_dim)(x)\n",
    "\n",
    "model = tf.keras.Model(inputs, outputs)\n",
    "model.compile(optimizer='adam', loss='mse')\n"
   ]
  },
  {
   "cell_type": "code",
   "execution_count": 18,
   "metadata": {
    "colab": {
     "base_uri": "https://localhost:8080/"
    },
    "id": "Rr0HRM2jMp06",
    "outputId": "9dc3b523-daa2-4665-c02a-000d948a807a"
   },
   "outputs": [
    {
     "name": "stdout",
     "output_type": "stream",
     "text": [
      "14/14 [==============================] - 1s 23ms/step\n"
     ]
    }
   ],
   "source": [
    "# Train the Model\n",
    "text_embeddings = model.predict(data)"
   ]
  },
  {
   "cell_type": "code",
   "execution_count": 19,
   "metadata": {
    "id": "eoFPZgKBjl2q"
   },
   "outputs": [],
   "source": [
    "similarity_scores_dict = {}"
   ]
  },
  {
   "cell_type": "markdown",
   "metadata": {
    "id": "ss-RVpeBnU1p"
   },
   "source": []
  },
  {
   "cell_type": "code",
   "execution_count": 20,
   "metadata": {
    "id": "l6fTIa25m5zx"
   },
   "outputs": [],
   "source": [
    "review_df= pd.read_excel('indonesia_tourism_reviews.xlsx')"
   ]
  },
  {
   "cell_type": "code",
   "execution_count": 21,
   "metadata": {
    "colab": {
     "background_save": true
    },
    "id": "eNeWjqbanaY3"
   },
   "outputs": [
    {
     "data": {
      "text/html": [
       "<div>\n",
       "<style scoped>\n",
       "    .dataframe tbody tr th:only-of-type {\n",
       "        vertical-align: middle;\n",
       "    }\n",
       "\n",
       "    .dataframe tbody tr th {\n",
       "        vertical-align: top;\n",
       "    }\n",
       "\n",
       "    .dataframe thead th {\n",
       "        text-align: right;\n",
       "    }\n",
       "</style>\n",
       "<table border=\"1\" class=\"dataframe\">\n",
       "  <thead>\n",
       "    <tr style=\"text-align: right;\">\n",
       "      <th></th>\n",
       "      <th>Place_Id</th>\n",
       "      <th>Place_Name</th>\n",
       "      <th>Description</th>\n",
       "      <th>Category</th>\n",
       "      <th>City</th>\n",
       "      <th>Price</th>\n",
       "      <th>Rating</th>\n",
       "      <th>Time_Minutes</th>\n",
       "      <th>Coordinate</th>\n",
       "      <th>Lat</th>\n",
       "      <th>...</th>\n",
       "      <th>Jam Operasional (Selasa)</th>\n",
       "      <th>Jam Operasional (Rabu)</th>\n",
       "      <th>Jam Operasional (Kamis)</th>\n",
       "      <th>Jam Operasional (Kamis).1</th>\n",
       "      <th>Jam Operasional (Jumat)</th>\n",
       "      <th>Jam Operasional (Sabtu)</th>\n",
       "      <th>Jam Operasional (Minggu)</th>\n",
       "      <th>Preferensi user (solo trip, family) cadangan</th>\n",
       "      <th>Jarak</th>\n",
       "      <th>Review</th>\n",
       "    </tr>\n",
       "  </thead>\n",
       "  <tbody>\n",
       "    <tr>\n",
       "      <th>0</th>\n",
       "      <td>1</td>\n",
       "      <td>Monumen Nasional</td>\n",
       "      <td>Monumen Nasional atau yang populer disingkat d...</td>\n",
       "      <td>Budaya</td>\n",
       "      <td>Jakarta</td>\n",
       "      <td>20000</td>\n",
       "      <td>4.6</td>\n",
       "      <td>15.0</td>\n",
       "      <td>{\"lat\": -6.1753924, \"lng\": 106.8271528}</td>\n",
       "      <td>-6.175392</td>\n",
       "      <td>...</td>\n",
       "      <td>08:00-12:00</td>\n",
       "      <td>08:00-12:00</td>\n",
       "      <td>08:00-12:00</td>\n",
       "      <td>08:00-12:00</td>\n",
       "      <td>08:00-12:00</td>\n",
       "      <td>08:00-12:00</td>\n",
       "      <td>08:00-12:00</td>\n",
       "      <td>NaN</td>\n",
       "      <td>NaN</td>\n",
       "      <td>NaN</td>\n",
       "    </tr>\n",
       "    <tr>\n",
       "      <th>1</th>\n",
       "      <td>2</td>\n",
       "      <td>Kota Tua</td>\n",
       "      <td>Kota tua di Jakarta, yang juga bernama Kota Tu...</td>\n",
       "      <td>Budaya</td>\n",
       "      <td>Jakarta</td>\n",
       "      <td>0</td>\n",
       "      <td>4.6</td>\n",
       "      <td>90.0</td>\n",
       "      <td>{\"lat\": -6.137644799999999, \"lng\": 106.8171245}</td>\n",
       "      <td>-6.137645</td>\n",
       "      <td>...</td>\n",
       "      <td>NaN</td>\n",
       "      <td>NaN</td>\n",
       "      <td>NaN</td>\n",
       "      <td>NaN</td>\n",
       "      <td>NaN</td>\n",
       "      <td>NaN</td>\n",
       "      <td>NaN</td>\n",
       "      <td>NaN</td>\n",
       "      <td>NaN</td>\n",
       "      <td>NaN</td>\n",
       "    </tr>\n",
       "    <tr>\n",
       "      <th>2</th>\n",
       "      <td>3</td>\n",
       "      <td>Dunia Fantasi</td>\n",
       "      <td>Dunia Fantasi atau disebut juga Dufan adalah t...</td>\n",
       "      <td>Taman Hiburan</td>\n",
       "      <td>Jakarta</td>\n",
       "      <td>270000</td>\n",
       "      <td>4.6</td>\n",
       "      <td>360.0</td>\n",
       "      <td>{\"lat\": -6.125312399999999, \"lng\": 106.8335377}</td>\n",
       "      <td>-6.125312</td>\n",
       "      <td>...</td>\n",
       "      <td>NaN</td>\n",
       "      <td>NaN</td>\n",
       "      <td>NaN</td>\n",
       "      <td>NaN</td>\n",
       "      <td>NaN</td>\n",
       "      <td>NaN</td>\n",
       "      <td>NaN</td>\n",
       "      <td>NaN</td>\n",
       "      <td>NaN</td>\n",
       "      <td>NaN</td>\n",
       "    </tr>\n",
       "    <tr>\n",
       "      <th>3</th>\n",
       "      <td>4</td>\n",
       "      <td>Taman Mini Indonesia Indah (TMII)</td>\n",
       "      <td>Taman Mini Indonesia Indah merupakan suatu kaw...</td>\n",
       "      <td>Taman Hiburan</td>\n",
       "      <td>Jakarta</td>\n",
       "      <td>10000</td>\n",
       "      <td>4.5</td>\n",
       "      <td>240.0</td>\n",
       "      <td>{\"lat\": -6.302445899999999, \"lng\": 106.8951559}</td>\n",
       "      <td>-6.302446</td>\n",
       "      <td>...</td>\n",
       "      <td>NaN</td>\n",
       "      <td>NaN</td>\n",
       "      <td>NaN</td>\n",
       "      <td>NaN</td>\n",
       "      <td>NaN</td>\n",
       "      <td>NaN</td>\n",
       "      <td>NaN</td>\n",
       "      <td>NaN</td>\n",
       "      <td>NaN</td>\n",
       "      <td>NaN</td>\n",
       "    </tr>\n",
       "    <tr>\n",
       "      <th>4</th>\n",
       "      <td>5</td>\n",
       "      <td>Atlantis Water Adventure</td>\n",
       "      <td>Atlantis Water Adventure atau dikenal dengan A...</td>\n",
       "      <td>Taman Hiburan</td>\n",
       "      <td>Jakarta</td>\n",
       "      <td>94000</td>\n",
       "      <td>4.5</td>\n",
       "      <td>60.0</td>\n",
       "      <td>{\"lat\": -6.12419, \"lng\": 106.839134}</td>\n",
       "      <td>-6.124190</td>\n",
       "      <td>...</td>\n",
       "      <td>NaN</td>\n",
       "      <td>NaN</td>\n",
       "      <td>NaN</td>\n",
       "      <td>NaN</td>\n",
       "      <td>NaN</td>\n",
       "      <td>NaN</td>\n",
       "      <td>NaN</td>\n",
       "      <td>NaN</td>\n",
       "      <td>NaN</td>\n",
       "      <td>NaN</td>\n",
       "    </tr>\n",
       "    <tr>\n",
       "      <th>...</th>\n",
       "      <td>...</td>\n",
       "      <td>...</td>\n",
       "      <td>...</td>\n",
       "      <td>...</td>\n",
       "      <td>...</td>\n",
       "      <td>...</td>\n",
       "      <td>...</td>\n",
       "      <td>...</td>\n",
       "      <td>...</td>\n",
       "      <td>...</td>\n",
       "      <td>...</td>\n",
       "      <td>...</td>\n",
       "      <td>...</td>\n",
       "      <td>...</td>\n",
       "      <td>...</td>\n",
       "      <td>...</td>\n",
       "      <td>...</td>\n",
       "      <td>...</td>\n",
       "      <td>...</td>\n",
       "      <td>...</td>\n",
       "      <td>...</td>\n",
       "    </tr>\n",
       "    <tr>\n",
       "      <th>432</th>\n",
       "      <td>433</td>\n",
       "      <td>Museum Mpu Tantular</td>\n",
       "      <td>Museum Negeri Mpu Tantular adalah sebuah museu...</td>\n",
       "      <td>Budaya</td>\n",
       "      <td>Surabaya</td>\n",
       "      <td>2000</td>\n",
       "      <td>4.4</td>\n",
       "      <td>45.0</td>\n",
       "      <td>{\"lat\": -7.4338593, \"lng\": 112.7199058}</td>\n",
       "      <td>-7.433859</td>\n",
       "      <td>...</td>\n",
       "      <td>NaN</td>\n",
       "      <td>NaN</td>\n",
       "      <td>NaN</td>\n",
       "      <td>NaN</td>\n",
       "      <td>NaN</td>\n",
       "      <td>NaN</td>\n",
       "      <td>NaN</td>\n",
       "      <td>NaN</td>\n",
       "      <td>NaN</td>\n",
       "      <td>NaN</td>\n",
       "    </tr>\n",
       "    <tr>\n",
       "      <th>433</th>\n",
       "      <td>434</td>\n",
       "      <td>Taman Bungkul</td>\n",
       "      <td>Taman Bungkul adalah taman wisata kota yang te...</td>\n",
       "      <td>Taman Hiburan</td>\n",
       "      <td>Surabaya</td>\n",
       "      <td>0</td>\n",
       "      <td>4.6</td>\n",
       "      <td>NaN</td>\n",
       "      <td>{\"lat\": -7.291346799999999, \"lng\": 112.7398218}</td>\n",
       "      <td>-7.291347</td>\n",
       "      <td>...</td>\n",
       "      <td>NaN</td>\n",
       "      <td>NaN</td>\n",
       "      <td>NaN</td>\n",
       "      <td>NaN</td>\n",
       "      <td>NaN</td>\n",
       "      <td>NaN</td>\n",
       "      <td>NaN</td>\n",
       "      <td>NaN</td>\n",
       "      <td>NaN</td>\n",
       "      <td>NaN</td>\n",
       "    </tr>\n",
       "    <tr>\n",
       "      <th>434</th>\n",
       "      <td>435</td>\n",
       "      <td>Taman Air Mancur Menari Kenjeran</td>\n",
       "      <td>Air mancur menari atau dancing fountain juga a...</td>\n",
       "      <td>Taman Hiburan</td>\n",
       "      <td>Surabaya</td>\n",
       "      <td>0</td>\n",
       "      <td>4.4</td>\n",
       "      <td>45.0</td>\n",
       "      <td>{\"lat\": -7.2752955, \"lng\": 112.7549381}</td>\n",
       "      <td>-7.275296</td>\n",
       "      <td>...</td>\n",
       "      <td>NaN</td>\n",
       "      <td>NaN</td>\n",
       "      <td>NaN</td>\n",
       "      <td>NaN</td>\n",
       "      <td>NaN</td>\n",
       "      <td>NaN</td>\n",
       "      <td>NaN</td>\n",
       "      <td>NaN</td>\n",
       "      <td>NaN</td>\n",
       "      <td>NaN</td>\n",
       "    </tr>\n",
       "    <tr>\n",
       "      <th>435</th>\n",
       "      <td>436</td>\n",
       "      <td>Taman Flora Bratang Surabaya</td>\n",
       "      <td>Taman Flora adalah salah satu taman kota di Su...</td>\n",
       "      <td>Taman Hiburan</td>\n",
       "      <td>Surabaya</td>\n",
       "      <td>0</td>\n",
       "      <td>4.6</td>\n",
       "      <td>NaN</td>\n",
       "      <td>{\"lat\": -7.294330299999999, \"lng\": 112.7617534}</td>\n",
       "      <td>-7.294330</td>\n",
       "      <td>...</td>\n",
       "      <td>NaN</td>\n",
       "      <td>NaN</td>\n",
       "      <td>NaN</td>\n",
       "      <td>NaN</td>\n",
       "      <td>NaN</td>\n",
       "      <td>NaN</td>\n",
       "      <td>NaN</td>\n",
       "      <td>NaN</td>\n",
       "      <td>NaN</td>\n",
       "      <td>NaN</td>\n",
       "    </tr>\n",
       "    <tr>\n",
       "      <th>436</th>\n",
       "      <td>437</td>\n",
       "      <td>Gereja Perawan Maria Tak Berdosa Surabaya</td>\n",
       "      <td>Gereja Katolik Kelahiran Santa Perawan Maria m...</td>\n",
       "      <td>Tempat Ibadah</td>\n",
       "      <td>Surabaya</td>\n",
       "      <td>10000</td>\n",
       "      <td>4.8</td>\n",
       "      <td>NaN</td>\n",
       "      <td>{\"lat\": -7.2420758, \"lng\": 112.7368158}</td>\n",
       "      <td>-7.242076</td>\n",
       "      <td>...</td>\n",
       "      <td>NaN</td>\n",
       "      <td>NaN</td>\n",
       "      <td>NaN</td>\n",
       "      <td>NaN</td>\n",
       "      <td>NaN</td>\n",
       "      <td>NaN</td>\n",
       "      <td>NaN</td>\n",
       "      <td>NaN</td>\n",
       "      <td>NaN</td>\n",
       "      <td>NaN</td>\n",
       "    </tr>\n",
       "  </tbody>\n",
       "</table>\n",
       "<p>437 rows × 22 columns</p>\n",
       "</div>"
      ],
      "text/plain": [
       "     Place_Id                                 Place_Name  \\\n",
       "0           1                           Monumen Nasional   \n",
       "1           2                                   Kota Tua   \n",
       "2           3                              Dunia Fantasi   \n",
       "3           4          Taman Mini Indonesia Indah (TMII)   \n",
       "4           5                   Atlantis Water Adventure   \n",
       "..        ...                                        ...   \n",
       "432       433                        Museum Mpu Tantular   \n",
       "433       434                              Taman Bungkul   \n",
       "434       435           Taman Air Mancur Menari Kenjeran   \n",
       "435       436               Taman Flora Bratang Surabaya   \n",
       "436       437  Gereja Perawan Maria Tak Berdosa Surabaya   \n",
       "\n",
       "                                           Description       Category  \\\n",
       "0    Monumen Nasional atau yang populer disingkat d...         Budaya   \n",
       "1    Kota tua di Jakarta, yang juga bernama Kota Tu...         Budaya   \n",
       "2    Dunia Fantasi atau disebut juga Dufan adalah t...  Taman Hiburan   \n",
       "3    Taman Mini Indonesia Indah merupakan suatu kaw...  Taman Hiburan   \n",
       "4    Atlantis Water Adventure atau dikenal dengan A...  Taman Hiburan   \n",
       "..                                                 ...            ...   \n",
       "432  Museum Negeri Mpu Tantular adalah sebuah museu...         Budaya   \n",
       "433  Taman Bungkul adalah taman wisata kota yang te...  Taman Hiburan   \n",
       "434  Air mancur menari atau dancing fountain juga a...  Taman Hiburan   \n",
       "435  Taman Flora adalah salah satu taman kota di Su...  Taman Hiburan   \n",
       "436  Gereja Katolik Kelahiran Santa Perawan Maria m...  Tempat Ibadah   \n",
       "\n",
       "         City   Price  Rating  Time_Minutes  \\\n",
       "0     Jakarta   20000     4.6          15.0   \n",
       "1     Jakarta       0     4.6          90.0   \n",
       "2     Jakarta  270000     4.6         360.0   \n",
       "3     Jakarta   10000     4.5         240.0   \n",
       "4     Jakarta   94000     4.5          60.0   \n",
       "..        ...     ...     ...           ...   \n",
       "432  Surabaya    2000     4.4          45.0   \n",
       "433  Surabaya       0     4.6           NaN   \n",
       "434  Surabaya       0     4.4          45.0   \n",
       "435  Surabaya       0     4.6           NaN   \n",
       "436  Surabaya   10000     4.8           NaN   \n",
       "\n",
       "                                          Coordinate       Lat  ...  \\\n",
       "0            {\"lat\": -6.1753924, \"lng\": 106.8271528} -6.175392  ...   \n",
       "1    {\"lat\": -6.137644799999999, \"lng\": 106.8171245} -6.137645  ...   \n",
       "2    {\"lat\": -6.125312399999999, \"lng\": 106.8335377} -6.125312  ...   \n",
       "3    {\"lat\": -6.302445899999999, \"lng\": 106.8951559} -6.302446  ...   \n",
       "4               {\"lat\": -6.12419, \"lng\": 106.839134} -6.124190  ...   \n",
       "..                                               ...       ...  ...   \n",
       "432          {\"lat\": -7.4338593, \"lng\": 112.7199058} -7.433859  ...   \n",
       "433  {\"lat\": -7.291346799999999, \"lng\": 112.7398218} -7.291347  ...   \n",
       "434          {\"lat\": -7.2752955, \"lng\": 112.7549381} -7.275296  ...   \n",
       "435  {\"lat\": -7.294330299999999, \"lng\": 112.7617534} -7.294330  ...   \n",
       "436          {\"lat\": -7.2420758, \"lng\": 112.7368158} -7.242076  ...   \n",
       "\n",
       "     Jam Operasional (Selasa) Jam Operasional (Rabu) Jam Operasional (Kamis)  \\\n",
       "0                 08:00-12:00            08:00-12:00             08:00-12:00   \n",
       "1                         NaN                    NaN                     NaN   \n",
       "2                         NaN                    NaN                     NaN   \n",
       "3                         NaN                    NaN                     NaN   \n",
       "4                         NaN                    NaN                     NaN   \n",
       "..                        ...                    ...                     ...   \n",
       "432                       NaN                    NaN                     NaN   \n",
       "433                       NaN                    NaN                     NaN   \n",
       "434                       NaN                    NaN                     NaN   \n",
       "435                       NaN                    NaN                     NaN   \n",
       "436                       NaN                    NaN                     NaN   \n",
       "\n",
       "    Jam Operasional (Kamis).1 Jam Operasional (Jumat) Jam Operasional (Sabtu)  \\\n",
       "0                 08:00-12:00             08:00-12:00             08:00-12:00   \n",
       "1                         NaN                     NaN                     NaN   \n",
       "2                         NaN                     NaN                     NaN   \n",
       "3                         NaN                     NaN                     NaN   \n",
       "4                         NaN                     NaN                     NaN   \n",
       "..                        ...                     ...                     ...   \n",
       "432                       NaN                     NaN                     NaN   \n",
       "433                       NaN                     NaN                     NaN   \n",
       "434                       NaN                     NaN                     NaN   \n",
       "435                       NaN                     NaN                     NaN   \n",
       "436                       NaN                     NaN                     NaN   \n",
       "\n",
       "    Jam Operasional (Minggu) Preferensi user (solo trip, family) cadangan  \\\n",
       "0                08:00-12:00                                          NaN   \n",
       "1                        NaN                                          NaN   \n",
       "2                        NaN                                          NaN   \n",
       "3                        NaN                                          NaN   \n",
       "4                        NaN                                          NaN   \n",
       "..                       ...                                          ...   \n",
       "432                      NaN                                          NaN   \n",
       "433                      NaN                                          NaN   \n",
       "434                      NaN                                          NaN   \n",
       "435                      NaN                                          NaN   \n",
       "436                      NaN                                          NaN   \n",
       "\n",
       "    Jarak  Review  \n",
       "0     NaN     NaN  \n",
       "1     NaN     NaN  \n",
       "2     NaN     NaN  \n",
       "3     NaN     NaN  \n",
       "4     NaN     NaN  \n",
       "..    ...     ...  \n",
       "432   NaN     NaN  \n",
       "433   NaN     NaN  \n",
       "434   NaN     NaN  \n",
       "435   NaN     NaN  \n",
       "436   NaN     NaN  \n",
       "\n",
       "[437 rows x 22 columns]"
      ]
     },
     "execution_count": 21,
     "metadata": {},
     "output_type": "execute_result"
    }
   ],
   "source": [
    "df"
   ]
  },
  {
   "cell_type": "code",
   "execution_count": 22,
   "metadata": {
    "id": "x-n-5UH7MrPZ"
   },
   "outputs": [],
   "source": [
    "# Recommendations\n",
    "def get_similarity_scores(selected_text_embedding, text_embeddings):\n",
    "    similarity_scores = cosine_similarity(selected_text_embedding.reshape(1, -1), text_embeddings)\n",
    "    return similarity_scores"
   ]
  },
  {
   "cell_type": "code",
   "execution_count": 23,
   "metadata": {},
   "outputs": [
    {
     "name": "stdout",
     "output_type": "stream",
     "text": [
      "True\n"
     ]
    }
   ],
   "source": [
    "print('Museum Pendidikan Nasional' in df['Place_Name'].values)"
   ]
  },
  {
   "cell_type": "code",
   "execution_count": 24,
   "metadata": {
    "colab": {
     "base_uri": "https://localhost:8080/"
    },
    "id": "DastM_GgFlj7",
    "outputId": "cf8106c7-369f-42fb-9699-80257a1fc955"
   },
   "outputs": [
    {
     "name": "stderr",
     "output_type": "stream",
     "text": [
      "C:\\Users\\asus\\AppData\\Local\\Temp\\ipykernel_13468\\232458738.py:22: FutureWarning: The behavior of DataFrame concatenation with empty or all-NA entries is deprecated. In a future version, this will no longer exclude empty or all-NA columns when determining the result dtypes. To retain the old behavior, exclude the relevant entries before the concat operation.\n",
      "  similarities_df = pd.concat([similarities_df, pd.DataFrame(rows_to_add)], ignore_index=True)\n"
     ]
    },
    {
     "name": "stdout",
     "output_type": "stream",
     "text": [
      "                                            Place  \\\n",
      "0                                Monumen Nasional   \n",
      "1                                Monumen Nasional   \n",
      "2                                Monumen Nasional   \n",
      "3                                Monumen Nasional   \n",
      "4                                Monumen Nasional   \n",
      "...                                           ...   \n",
      "190527  Gereja Perawan Maria Tak Berdosa Surabaya   \n",
      "190528  Gereja Perawan Maria Tak Berdosa Surabaya   \n",
      "190529  Gereja Perawan Maria Tak Berdosa Surabaya   \n",
      "190530  Gereja Perawan Maria Tak Berdosa Surabaya   \n",
      "190531  Gereja Perawan Maria Tak Berdosa Surabaya   \n",
      "\n",
      "                               Similar Place     Score  \n",
      "0                        Jembatan Kota Intan  0.822475  \n",
      "1       Monumen Perjuangan Rakyat Jawa Barat  0.818451  \n",
      "2                 Sindu Kusuma Edupark (SKE)  0.813571  \n",
      "3           Istana Negara Republik Indonesia  0.808312  \n",
      "4                        Kawasan Kuliner BSM  0.803506  \n",
      "...                                      ...       ...  \n",
      "190527                       Panama Park 825  0.346721  \n",
      "190528              Monumen Palagan Ambarawa  0.332037  \n",
      "190529            Hutan Mangrove Kulon Progo  0.319279  \n",
      "190530              Monumen Batik Yogyakarta  0.270300  \n",
      "190531                           Rumah Batik  0.268361  \n",
      "\n",
      "[190532 rows x 3 columns]\n"
     ]
    }
   ],
   "source": [
    "import pandas as pd\n",
    "\n",
    "# Initialize an empty DataFrame\n",
    "similarities_df = pd.DataFrame(columns=['Place', 'Similar Place', 'Score'])\n",
    "\n",
    "# Iterate through each destination\n",
    "for selected_place in df['Place_Name']:\n",
    "    selected_place_index = df.index[df['Place_Name'] == selected_place].tolist()[0]\n",
    "    selected_place_embedding = text_embeddings[selected_place_index]\n",
    "    \n",
    "    similarity_scores = get_similarity_scores(selected_place_embedding, text_embeddings)\n",
    "    sorted_similarities = sorted(list(enumerate(similarity_scores[0])), key=lambda x: x[1], reverse=True)\n",
    "    \n",
    "    # Accumulate the top similar places in a list of dictionaries\n",
    "    rows_to_add = []\n",
    "    for idx, score in sorted_similarities:\n",
    "        if idx != selected_place_index:  # Exclude the place itself from its similarity list\n",
    "            similar_place = df.loc[idx, 'Place_Name']\n",
    "            rows_to_add.append({'Place': selected_place, 'Similar Place': similar_place, 'Score': score})\n",
    "    \n",
    "    # Convert the list of dictionaries to a DataFrame and concatenate\n",
    "    similarities_df = pd.concat([similarities_df, pd.DataFrame(rows_to_add)], ignore_index=True)\n",
    "\n",
    "# Display the DataFrame\n",
    "print(similarities_df)\n",
    "\n",
    "# Optionally, save to a CSV file\n",
    "similarities_df.to_csv('similarities.csv', index=False)\n"
   ]
  },
  {
   "cell_type": "code",
   "execution_count": 25,
   "metadata": {
    "colab": {
     "base_uri": "https://localhost:8080/"
    },
    "id": "s_OMZv4Beg3Z",
    "outputId": "8563d707-c60e-4a40-8dab-5948701437f2"
   },
   "outputs": [
    {
     "name": "stdout",
     "output_type": "stream",
     "text": [
      "INFO:tensorflow:Assets written to: C:\\Users\\asus\\AppData\\Local\\Temp\\tmpd4atpuga\\assets\n"
     ]
    },
    {
     "name": "stderr",
     "output_type": "stream",
     "text": [
      "INFO:tensorflow:Assets written to: C:\\Users\\asus\\AppData\\Local\\Temp\\tmpd4atpuga\\assets\n"
     ]
    },
    {
     "name": "stdout",
     "output_type": "stream",
     "text": [
      "Model conversion successful!\n"
     ]
    }
   ],
   "source": [
    "converter = tf.lite.TFLiteConverter.from_keras_model(model)\n",
    "# Enable Select TensorFlow ops\n",
    "converter.target_spec.supported_ops = [\n",
    "    tf.lite.OpsSet.TFLITE_BUILTINS,  # TFLite built-in ops.\n",
    "    tf.lite.OpsSet.SELECT_TF_OPS     # Select TensorFlow ops.\n",
    "]\n",
    "\n",
    "# Disable experimental lowering of TensorList ops\n",
    "converter._experimental_lower_tensor_list_ops = False\n",
    "\n",
    "# Convert the model\n",
    "try:\n",
    "    tflite_model = converter.convert()\n",
    "    # Save the TFLite model\n",
    "    with open('model.tflite', 'wb') as f:\n",
    "        f.write(tflite_model)\n",
    "    print(\"Model conversion successful!\")\n",
    "except Exception as e:\n",
    "    print(\"Model conversion failed:\", e)\n",
    "# tflite_model = converter.convert()"
   ]
  },
  {
   "cell_type": "code",
   "execution_count": 27,
   "metadata": {
    "id": "QI24Wj2xnN7a"
   },
   "outputs": [],
   "source": [
    "# Save the tokenizer\n",
    "import json\n",
    "\n",
    "tokenizer_json = tokenizer.to_json()\n",
    "with open('tokenizer.json', 'w') as f:\n",
    "    f.write(tokenizer_json)"
   ]
  }
 ],
 "metadata": {
  "colab": {
   "provenance": []
  },
  "kernelspec": {
   "display_name": "Python 3 (ipykernel)",
   "language": "python",
   "name": "python3"
  },
  "language_info": {
   "codemirror_mode": {
    "name": "ipython",
    "version": 3
   },
   "file_extension": ".py",
   "mimetype": "text/x-python",
   "name": "python",
   "nbconvert_exporter": "python",
   "pygments_lexer": "ipython3",
   "version": "3.11.5"
  }
 },
 "nbformat": 4,
 "nbformat_minor": 4
}
